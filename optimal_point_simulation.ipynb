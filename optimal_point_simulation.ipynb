{
 "cells": [
  {
   "cell_type": "code",
   "execution_count": 2,
   "metadata": {},
   "outputs": [],
   "source": [
    "\n",
    "import pandas as pd\n",
    "from sklearn.model_selection import train_test_split\n",
    "from sklearn.preprocessing import StandardScaler\n"
   ]
  },
  {
   "cell_type": "code",
   "execution_count": 15,
   "metadata": {},
   "outputs": [
    {
     "name": "stdout",
     "output_type": "stream",
     "text": [
      "9\n",
      "optimal_amlitude: [1.03300000e+03 1.81000000e-01 9.44498985e-04]\n"
     ]
    }
   ],
   "source": [
    "# load data file\n",
    "data = pd.read_csv('param_mod.csv')\n",
    "\n",
    "data_1 = data.loc[data['B Freq'] == 1033]\n",
    "data_1 =data_1.iloc[:,0:3].values\n",
    "y = data_1[:,2]\n",
    "# index of max y\n",
    "index = y.argmax()\n",
    "# print(data_1)\n",
    "print(index)\n",
    "print(f'optimal_amlitude: {data_1[index]}')\n",
    "\n",
    "\n",
    "\n"
   ]
  },
  {
   "cell_type": "code",
   "execution_count": 17,
   "metadata": {},
   "outputs": [
    {
     "name": "stdout",
     "output_type": "stream",
     "text": [
      "        B_0    Amp       X_1\n",
      "0    1033.0  0.181  0.000944\n",
      "1    1073.0  0.162  0.000943\n",
      "2    1113.0  0.181  0.000939\n",
      "3    1153.0  0.200  0.000936\n",
      "4    1193.0  0.200  0.000939\n",
      "..      ...    ...       ...\n",
      "96   4873.0  0.865  0.001031\n",
      "97   4913.0  0.808  0.001032\n",
      "98   4953.0  0.884  0.001034\n",
      "99   4993.0  0.846  0.001037\n",
      "100  5033.0  0.846  0.001036\n",
      "\n",
      "[101 rows x 3 columns]\n"
     ]
    }
   ],
   "source": [
    "\n",
    "\n",
    "# Load the CSV file\n",
    "\n",
    "\n",
    "# Segment data based on 'B Freq' and find optimal points where X_1 is maximum\n",
    "optimal_points = []\n",
    "\n",
    "# Iterate through unique values of 'B Freq'\n",
    "for freq in data['B Freq'].unique():\n",
    "    data_segment = data.loc[data['B Freq'] == freq]\n",
    "    \n",
    "    # Select relevant columns (assuming X_1 is the first column and y is the third column)\n",
    "    data_segment_values = data_segment.iloc[:, 0:3].values\n",
    "    y = data_segment_values[:, 2]\n",
    "    \n",
    "    # Find index of maximum X_1\n",
    "    index_max_X1 = y.argmax()\n",
    "    \n",
    "    # Append optimal point\n",
    "    optimal_points.append(data_segment_values[index_max_X1])\n",
    "\n",
    "# Convert to DataFrame for easier display\n",
    "optimal_df = pd.DataFrame(optimal_points, columns=['B_0', 'Amp', 'X_1'])\n",
    "\n",
    "# Display the optimal points\n",
    "print(optimal_df)\n",
    "\n",
    "# save the optimal points to a CSV file\n",
    "\n",
    "optimal_df.to_csv('optimal_points.csv', index=False)\n"
   ]
  },
  {
   "cell_type": "code",
   "execution_count": null,
   "metadata": {},
   "outputs": [],
   "source": [
    "#  input the  y to get the optimal points through the backpropagation algorithm\n"
   ]
  }
 ],
 "metadata": {
  "kernelspec": {
   "display_name": "VAM",
   "language": "python",
   "name": "python3"
  },
  "language_info": {
   "codemirror_mode": {
    "name": "ipython",
    "version": 3
   },
   "file_extension": ".py",
   "mimetype": "text/x-python",
   "name": "python",
   "nbconvert_exporter": "python",
   "pygments_lexer": "ipython3",
   "version": "3.11.9"
  }
 },
 "nbformat": 4,
 "nbformat_minor": 2
}
